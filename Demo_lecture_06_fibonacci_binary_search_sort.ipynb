{
  "nbformat": 4,
  "nbformat_minor": 0,
  "metadata": {
    "colab": {
      "provenance": [],
      "toc_visible": true
    },
    "kernelspec": {
      "name": "python3",
      "display_name": "Python 3"
    },
    "language_info": {
      "name": "python"
    }
  },
  "cells": [
    {
      "cell_type": "markdown",
      "source": [
        "------------------\n",
        "```markdown\n",
        "# Copyright © 2024 Meysam Goodarzi\n",
        "This notebook is licensed under CC BY-NC 4.0 with the following amandments:\n",
        "- Individuals may use, share, and adapt this material for non-commercial purposes with attribution.\n",
        "- Institutions/Companies must obtain written consent to use this material, except for nonprofits.\n",
        "- Commercial use is prohibited without permission.  \n",
        "Contact: analytica@meysam-goodarzi.com\n",
        "```\n",
        "------------------------------\n",
        "❗❗❗ **IMPORTANT**❗❗❗ **Create a copy of this notebook**\n",
        "\n",
        "In order to work with this Google Colab you need to create a copy of it. Please **DO NOT** provide your answers here. Instead, work on the copy version. To make a copy:\n",
        "\n",
        "**Click on: File -> save a copy in drive**\n",
        "\n",
        "Have you successfully created the copy? if yes, there must be a new tab opened in your browser. Now move to the copy and start from there!\n",
        "\n",
        "----------------------------------------------\n"
      ],
      "metadata": {
        "id": "TwkcaWdkKel3"
      }
    },
    {
      "cell_type": "markdown",
      "source": [
        "# Fibonacci, Binary Search, and MergeSort"
      ],
      "metadata": {
        "id": "KNWxLcg4374L"
      }
    },
    {
      "cell_type": "markdown",
      "source": [
        "## Fibonacci\n",
        " The Fibonacci sequence is a classic problem used to illustrate different algorithmic approaches and their trade-offs in terms of time complexity and space complexity.\n",
        "\n",
        "Let us start by analysing of various implementations of Fibonacci algorithms in Python, along with their time and space complexities."
      ],
      "metadata": {
        "id": "oLk__Nr_90vu"
      }
    },
    {
      "cell_type": "markdown",
      "source": [
        "### Recursive"
      ],
      "metadata": {
        "id": "i7_97Vw2gKtT"
      }
    },
    {
      "cell_type": "code",
      "source": [
        "def fib_recursive(n: int):\n",
        "    if n <= 1:\n",
        "        return n\n",
        "    return fib_recursive(n - 1) + fib_recursive(n - 2)"
      ],
      "metadata": {
        "id": "b3eTYDkfx3iP"
      },
      "execution_count": null,
      "outputs": []
    },
    {
      "cell_type": "markdown",
      "source": [
        "How is the time complexity?\n",
        "<details>\n",
        "  <summary>Answer</summary>\n",
        "</p>$O(2^n)$: This is because the function makes two recursive calls for each value of n, leading to an exponential growth in the number of function calls. The recursion tree has a branching factor of 2, and the depth is n.</p>\n",
        "</details>"
      ],
      "metadata": {
        "id": "0xvV1kOiiyZz"
      }
    },
    {
      "cell_type": "markdown",
      "source": [
        "What about the space complexity?\n",
        "<details>\n",
        "  <summary>Answer</summary>\n",
        "</p>$O(n)$: The space is determined by the maximum depth of the recursion stack, which is n in the worst case.</p>\n",
        "</details>"
      ],
      "metadata": {
        "id": "sDE_xIo8jR-0"
      }
    },
    {
      "cell_type": "markdown",
      "source": [
        "**Question**: Where does the inefficiency come from?"
      ],
      "metadata": {
        "id": "2VFJdoX7jcj3"
      }
    },
    {
      "cell_type": "markdown",
      "source": [
        "### Array-based"
      ],
      "metadata": {
        "id": "bNXPSbyqx_Fm"
      }
    },
    {
      "cell_type": "code",
      "source": [
        "def fib_array(n: int):\n",
        "    if n <= 1:\n",
        "        return n\n",
        "    dp = [0] * (n + 1)\n",
        "    dp[1] = 1\n",
        "    for i in range(2, n + 1):\n",
        "        dp[i] = dp[i - 1] + dp[i - 2]\n",
        "    return dp[n]"
      ],
      "metadata": {
        "id": "8kHHMaI2gkk5"
      },
      "execution_count": null,
      "outputs": []
    },
    {
      "cell_type": "markdown",
      "source": [
        "How has the time complexity changed?\n",
        "<details>\n",
        "  <summary>Answer</summary>\n",
        "</p>$O(n)$: The algorithm iterates through the numbers from 2 to n once, computing each Fibonacci number in constant time.</p>\n",
        "</details>"
      ],
      "metadata": {
        "id": "QAIzjRRylL99"
      }
    },
    {
      "cell_type": "markdown",
      "source": [
        "What about the space complexity?\n",
        "<details>\n",
        "  <summary>Answer</summary>\n",
        "</p>$O(n)$: The dp array stores n + 1 Fibonacci numbers.</p>\n",
        "</details>"
      ],
      "metadata": {
        "id": "GSARi7y-lrFu"
      }
    },
    {
      "cell_type": "markdown",
      "source": [
        "**Question**: How was the improvement achieved?"
      ],
      "metadata": {
        "id": "ZZkxs9bQl-em"
      }
    },
    {
      "cell_type": "markdown",
      "source": [
        "### Space-efficient"
      ],
      "metadata": {
        "id": "UbMKddV_oHXM"
      }
    },
    {
      "cell_type": "code",
      "source": [
        "def fib_optimized(n: int):\n",
        "    if n <= 1:\n",
        "        return n\n",
        "    prev, curr = 0, 1\n",
        "    for _ in range(2, n + 1):\n",
        "        # Your code\n",
        "    return curr"
      ],
      "metadata": {
        "id": "Pfz2GcQQoLyc"
      },
      "execution_count": null,
      "outputs": []
    },
    {
      "cell_type": "markdown",
      "source": [
        "How has the time complexity changed?\n",
        "<details>\n",
        "  <summary>Answer</summary>\n",
        "</p>$O(n)$: The algorithm iterates through the numbers from 2 to n once, computing each Fibonacci number in constant time.</p>\n",
        "</details>"
      ],
      "metadata": {
        "id": "z6mucvFkoSSo"
      }
    },
    {
      "cell_type": "markdown",
      "source": [
        "What about the space complexity?\n",
        "<details>\n",
        "  <summary>Answer</summary>\n",
        "</p>$O(1)$: Only two variables (prev and curr) are used to store intermediate results</p>\n",
        "</details>"
      ],
      "metadata": {
        "id": "mjVQk_crocEK"
      }
    },
    {
      "cell_type": "markdown",
      "source": [
        "## Binary Search\n",
        "Here is the complete Python implementation."
      ],
      "metadata": {
        "id": "MnmryBDbxwyC"
      }
    },
    {
      "cell_type": "code",
      "source": [
        "def binary_search(arr: list, target: float):\n",
        "    left, right = 0, len(arr) - 1\n",
        "    while left <= right:\n",
        "        mid = left + (right - left) // 2\n",
        "        if arr[mid] == target:\n",
        "          # Target found\n",
        "            return mid\n",
        "        elif arr[mid] < target:\n",
        "          # Search in the right half\n",
        "            left = mid + 1\n",
        "        else:\n",
        "          # Search in the left half\n",
        "            right = mid - 1\n",
        "    return -1"
      ],
      "metadata": {
        "id": "Z6f0CrgO4WjK"
      },
      "execution_count": null,
      "outputs": []
    },
    {
      "cell_type": "markdown",
      "source": [
        "What is your analysis of time complexity?\n",
        "<details>\n",
        "  <summary>Answer</summary>\n",
        "</p>$O(\\log n)$: Binary Search divides the search space in half with each iteration, leading to a logarithmic time complexity. This makes it much faster than Linear Search ($O(n)$) for large datasets.</p>\n",
        "</details>"
      ],
      "metadata": {
        "id": "oQ9H_-N3tQWd"
      }
    },
    {
      "cell_type": "markdown",
      "source": [
        "What about space complexity?\n",
        "<details>\n",
        "  <summary>Answer</summary>\n",
        "</p>$O(1)$: It uses constant space for pointers (left, right, mid).</p>\n",
        "</details>"
      ],
      "metadata": {
        "id": "ZSqQuryHtR1H"
      }
    },
    {
      "cell_type": "markdown",
      "source": [
        "### Exercise\n",
        "A company wants to maximize profits while staying within a budget constraint. The profit function depends on how much the company invests in two projects, $x_1$ and $x_2$. The optimal amount is given by:\n",
        "\n",
        "$$x_1 = (\\frac{5}{2.5\\lambda})^2,$$\n",
        "and\n",
        "$$x_2 = (\\frac{7}{4\\lambda})^2,$$\n",
        "\n",
        "and the constraint is given by:\n",
        "$$x_1 + x_2 \\leq B_t.$$\n",
        "\n",
        "The parameter $\\lambda$ is used to adjust the amount invested in $x_1$ and $x_2$ depending how much total budget $B_t$ is available. Find the $\\lambda$ using binary search for $B_t = 27$ such that the constraint is met."
      ],
      "metadata": {
        "id": "E2XLUqrVkaC5"
      }
    },
    {
      "cell_type": "code",
      "source": [
        "import numpy as np\n",
        "\n",
        "# Total budget\n",
        "Bt = 27\n",
        "\n",
        "def budget_satisfied(lmbda):\n",
        "    \"\"\"Check if the given lambda satisfies the budget constraint.\"\"\"\n",
        "    x1 = 2 / (1.5 * lmbda)\n",
        "    x2 = 3 / (1.7 * lmbda)\n",
        "    return (x1 + x2) <= Bt  # Check if within budget\n",
        "\n",
        "def find_lambda():\n",
        "    \"\"\"Binary search for the optimal lambda.\"\"\"\n",
        "    left, right = 0.0001, 100  # Lambda range\n",
        "    precision = 1e-5\n",
        "\n",
        "    while right - left > precision:\n",
        "        mid = (left + right) / 2\n",
        "        # Your code\n",
        "\n",
        "    return (left + right) / 2\n",
        "\n",
        "# Find lambda\n",
        "optimal_lambda = find_lambda()\n",
        "print(f\"Optimal Lagrange Multiplier (λ): {optimal_lambda:.5f}\")\n",
        "\n",
        "# Compute optimal x1 and x2\n",
        "x1_opt = 2 / (1.5 * optimal_lambda)\n",
        "x2_opt = 3 / (1.7 * optimal_lambda)\n",
        "\n",
        "print(f\"Optimal x1: {x1_opt:.2f}, Optimal x2: {x2_opt:.2f}, Sum: {x1_opt+x2_opt:.2f}\")\n"
      ],
      "metadata": {
        "id": "DCqWhy0Qo-5H"
      },
      "execution_count": null,
      "outputs": []
    },
    {
      "cell_type": "markdown",
      "source": [
        "## Mergesort\n",
        "Let us first begin by a simple case, merging two sorted arrays."
      ],
      "metadata": {
        "id": "Zlr3Q_BoofRx"
      }
    },
    {
      "cell_type": "markdown",
      "source": [
        "### Merging Sorted Arrays\n",
        "Merging two sorted arrays involves combining them into a single sorted array by comparing elements from both arrays and appending the smaller element to the result."
      ],
      "metadata": {
        "id": "jqHGFYLw1ZgH"
      }
    },
    {
      "cell_type": "code",
      "source": [
        "def merge_sorted_arrays(arr1: list, arr2: list):\n",
        "    merged = []\n",
        "    i, j = 0, 0\n",
        "\n",
        "    # Traverse both arrays and append the smaller element\n",
        "    while i < len(arr1) and j < len(arr2):\n",
        "        if arr1[i] < arr2[j]:\n",
        "            merged.append(arr1[i])\n",
        "            i += 1\n",
        "        else:\n",
        "            merged.append(arr2[j])\n",
        "            j += 1\n",
        "\n",
        "   # Append the remaining elements from arr1 and arr2 (if any)\n",
        "    merged.extend(arr1[i:])\n",
        "    merged.extend(arr2[j:])\n",
        "\n",
        "    return merged"
      ],
      "metadata": {
        "id": "A_KfpVX2pKEZ"
      },
      "execution_count": null,
      "outputs": []
    },
    {
      "cell_type": "markdown",
      "source": [
        "What is your analysis of time complexity?\n",
        "<details>\n",
        "  <summary>Answer</summary>\n",
        "</p>$O(n + m)$: Where n and m are the lengths of the two arrays. Each element is visited once.</p>\n",
        "</details>"
      ],
      "metadata": {
        "id": "oR3kZuDE2ARV"
      }
    },
    {
      "cell_type": "markdown",
      "source": [
        "What about space complexity?\n",
        "<details>\n",
        "  <summary>Answer</summary>\n",
        "</p>$O(n + m)$: A new array of size n + m is created to store the merged result.</p>\n",
        "</details>"
      ],
      "metadata": {
        "id": "qVM8aOPl2Ir1"
      }
    },
    {
      "cell_type": "markdown",
      "source": [
        "### MergeSort\n",
        "MergeSort is a **divide-and-conquer** algorithm that recursively splits an unsorted array into smaller subarrays, sorts them, and then merges them back together. The merging step uses the same logic as merging two sorted arrays."
      ],
      "metadata": {
        "id": "EdgFSK872O3Q"
      }
    },
    {
      "cell_type": "code",
      "source": [
        "def merge_sort(arr: list):\n",
        "    # Base case: If the array has 0 or 1 element, it's already sorted\n",
        "    if len(arr) <= 1:\n",
        "        return arr\n",
        "\n",
        "    # Divide the array into two halves\n",
        "    mid = len(arr) // 2\n",
        "    left_half = merge_sort(arr[:mid])  # Recursively sort the left half\n",
        "    right_half = merge_sort(arr[mid:])  # Recursively sort the right half\n",
        "\n",
        "    # Merge the two sorted halves\n",
        "    return merge_sorted_arrays(left_half, right_half)"
      ],
      "metadata": {
        "id": "jPtD5oGj-yO5"
      },
      "execution_count": null,
      "outputs": []
    },
    {
      "cell_type": "markdown",
      "source": [
        "What is the time complexity?\n",
        "<details>\n",
        "  <summary>Answer</summary>\n",
        "</p>$O(n log n)$: The array is divided into halves recursively (log n levels), and each level requires $O(n)$ time for merging.</p>\n",
        "</details>"
      ],
      "metadata": {
        "id": "86QcO-GF-_dk"
      }
    },
    {
      "cell_type": "markdown",
      "source": [
        "What about space complexity?\n",
        "<details>\n",
        "  <summary>Answer</summary>\n",
        "</p>$O(n)$: Additional space is required for the temporary arrays during merging.</p>\n",
        "</details>"
      ],
      "metadata": {
        "id": "QEX-BPTc_vy0"
      }
    },
    {
      "cell_type": "markdown",
      "source": [
        "**Congratulations! You have finished the Notebook! Great Job!**\n",
        "🤗🙌👍👏💪\n",
        "<!--\n",
        "# Copyright © 2024 Meysam Goodarzi\n",
        "This notebook is licensed under CC BY-NC 4.0 with the following amandments:\n",
        "- Individuals may use, share, and adapt this material for non-commercial purposes with attribution.\n",
        "- Institutions/Companies must obtain written consent to use this material, except for nonprofits.\n",
        "- Commercial use is prohibited without permission.  \n",
        "Contact: analytica@meysam-goodarzi.com.\n",
        "-->"
      ],
      "metadata": {
        "id": "nrBw5WXAAcC-"
      }
    }
  ]
}