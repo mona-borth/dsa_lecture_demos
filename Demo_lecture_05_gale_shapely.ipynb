{
  "nbformat": 4,
  "nbformat_minor": 0,
  "metadata": {
    "colab": {
      "provenance": []
    },
    "kernelspec": {
      "name": "python3",
      "display_name": "Python 3"
    },
    "language_info": {
      "name": "python"
    }
  },
  "cells": [
    {
      "cell_type": "markdown",
      "source": [
        "------------------\n",
        "```markdown\n",
        "# Copyright © 2024 Meysam Goodarzi\n",
        "This notebook is licensed under CC BY-NC 4.0 with the following amandments:\n",
        "- Individuals may use, share, and adapt this material for non-commercial purposes with attribution.\n",
        "- Institutions/Companies must obtain written consent to use this material, except for nonprofits.\n",
        "- Commercial use is prohibited without permission.  \n",
        "Contact: analytica@meysam-goodarzi.com\n",
        "```\n",
        "------------------------------\n",
        "❗❗❗ **IMPORTANT**❗❗❗ **Create a copy of this notebook**\n",
        "\n",
        "In order to work with this Google Colab you need to create a copy of it. Please **DO NOT** provide your answers here. Instead, work on the copy version. To make a copy:\n",
        "\n",
        "**Click on: File -> save a copy in drive**\n",
        "\n",
        "Have you successfully created the copy? if yes, there must be a new tab opened in your browser. Now move to the copy and start from there!\n",
        "\n",
        "----------------------------------------------\n"
      ],
      "metadata": {
        "id": "TwkcaWdkKel3"
      }
    },
    {
      "cell_type": "markdown",
      "source": [
        "# Gale-Shapely Algorithm\n",
        "The Gale-Shapely algorithm solves the Stable Matching Problem, which aims to find a stable pairing between two groups based on preferences. It guarantees stability, ensures efficiency, and optimizes the outcome for the proposing side.\n",
        "This algorithm is widely used in college admissions, job markets, and organ donation systems."
      ],
      "metadata": {
        "id": "KNWxLcg4374L"
      }
    },
    {
      "cell_type": "markdown",
      "source": [
        "## College Admission Problem\n",
        "The College Admission Problem involves:\n",
        "\n",
        "- n students and n colleges.\n",
        "- Each student ranks colleges in order of preference.\n",
        "- Each college ranks students and has a fixed quota (maximum admissions).\n",
        "\n",
        "The final goal is to find a stable matching where:\n",
        "- No student-college pair prefers each other over their current match.\n",
        "- Every student is matched to at most one college.\n",
        "- Every college admits students up to its quota.\n",
        "\n",
        "We could summarize the preferences the students as:\n",
        "\n",
        "Students | Preferences |\n",
        " :- | -:- |\n",
        "  $s_1$ | $c_1$ $> c_2$ $> c_3$\n",
        "  $s_2$ | $c_2$ $> c_1$ $> c_3$  \n",
        "  $s_3$ | $c_1$ $> c_3$ $> c_2$\n",
        "\n",
        "and that of the colleges as:\n",
        "\n",
        "Students | Preferences |\n",
        " :- | -:- |\n",
        "  $c_1$ | $s_2$ $> s_1$ $> s_3$\n",
        "  $c_2$ | $s_1$ $> s_3$ $>s_2$\n",
        "  $c_3$ | $s_3$ $> s_2$ $> s_1$\n",
        "\n"
      ],
      "metadata": {
        "id": "oLk__Nr_90vu"
      }
    },
    {
      "cell_type": "markdown",
      "source": [
        "### Step 1\n",
        "we first need to define the preferences. We'll use dictionaries to store student and college preferences."
      ],
      "metadata": {
        "id": "i7_97Vw2gKtT"
      }
    },
    {
      "cell_type": "code",
      "source": [
        "# Students' preferences (ranked lists of colleges)\n",
        "students_preferences = {\n",
        "    \"s1\": [\"c1\", \"c2\", \"c3\"],\n",
        "    \"s2\": [\"c2\", \"c1\", \"c3\"],\n",
        "    \"s3\": [\"c1\", \"c3\", \"c2\"]\n",
        "}\n",
        "\n",
        "# Colleges' preferences (ranked lists of students)\n",
        "colleges_preferences = {\n",
        "    \"c1\": [\"s2\", \"s1\", \"s3\"],\n",
        "    \"c2\": [\"s1\", \"s3\", \"s2\"],\n",
        "    \"c3\": [\"s3\", \"s2\", \"s1\"]\n",
        "}"
      ],
      "metadata": {
        "id": "b3eTYDkfx3iP"
      },
      "execution_count": null,
      "outputs": []
    },
    {
      "cell_type": "markdown",
      "source": [
        "### Step 2\n",
        "We then create variables based on our scenario, i.e., who proposes to who.\n",
        "\n",
        "```python\n",
        "def proposers_proposee(self):\n",
        "        \"\"\"\n",
        "        Determines proposers, proposees, and their preferences.\n",
        "\n",
        "        Returns:\n",
        "            tuple: (proposers, proposers_preferences,\n",
        "                    proposees, proposees_preferences).\n",
        "        \"\"\"\n",
        "        if self.proposing_group == 'A':\n",
        "            proposers = self.group_A\n",
        "            proposees = self.group_B\n",
        "            proposers_preferences = self.A_preferences\n",
        "            proposees_preferences = self.B_preferences\n",
        "        elif self.proposing_group == 'B':\n",
        "            proposers = self.group_B\n",
        "            proposees = self.group_A\n",
        "            proposers_preferences = self.B_preferences\n",
        "            proposees_preferences = self.A_preferences\n",
        "        else:\n",
        "            raise ValueError(\"Proposing group must be 'A' or 'B'.\")\n",
        "\n",
        "        return proposers, proposers_preferences, proposees, proposees_preferences\n",
        "```"
      ],
      "metadata": {
        "id": "bNXPSbyqx_Fm"
      }
    },
    {
      "cell_type": "markdown",
      "source": [
        "### Step 3\n",
        "Finally we implement the Gale-Shapley algorithm as follows:\n",
        "1. Proposers propose to their top-choice proposees.\n",
        "1. Proposees evaluate applicants and keep the most preferred proposers.\n",
        "1. Rejected proposers move to the next preferred proposee.\n",
        "1. Repeat until all proposers are either matched or exhausted all choices."
      ],
      "metadata": {
        "id": "EEMQqssa0Ca4"
      }
    },
    {
      "cell_type": "code",
      "source": [
        "class GaleShapley:\n",
        "    def __init__(self, A_preferences, B_preferences, proposing_group=\"A\"):\n",
        "        \"\"\"\n",
        "        Initialize the Gale-Shapley algorithm.\n",
        "\n",
        "        :param group_A: List of names/identifiers for the first group .\n",
        "        :param group_B: List of names/identifiers for the second group.\n",
        "        :param A_preferences: Dictionary where keys are members of group_A and values are their ranked preferences for group_B.\n",
        "        :param B_preferences: Dictionary where keys are members of group_B and values are their ranked preferences for group_A.\n",
        "        \"\"\"\n",
        "        self.group_A = list(A_preferences)\n",
        "        self.group_B = list(B_preferences)\n",
        "        self.A_preferences = A_preferences\n",
        "        self.B_preferences = B_preferences\n",
        "        self.proposing_group = proposing_group\n",
        "        self.matches = {}  # Stores the final matches\n",
        "\n",
        "\n",
        "    def proposers_proposee(self):\n",
        "        \"\"\"\n",
        "        Determines proposers, proposees, and their preferences.\n",
        "\n",
        "        Returns:\n",
        "            tuple: (proposers, proposers_preferences,\n",
        "                    proposees, proposees_preferences).\n",
        "        \"\"\"\n",
        "        if self.proposing_group == 'A':\n",
        "            proposers = self.group_A\n",
        "            proposees = self.group_B\n",
        "            proposers_preferences = self.A_preferences\n",
        "            proposees_preferences = self.B_preferences\n",
        "        elif self.proposing_group == 'B':\n",
        "            proposers = self.group_B\n",
        "            proposees = self.group_A\n",
        "            proposers_preferences = self.B_preferences\n",
        "            proposees_preferences = self.A_preferences\n",
        "        else:\n",
        "            raise ValueError(\"Proposing group must be 'A' or 'B'.\")\n",
        "\n",
        "        return proposers, proposers_preferences, proposees, proposees_preferences\n",
        "\n",
        "    def match(self):\n",
        "        \"\"\"\n",
        "        Run the Gale-Shapley algorithm to find a stable matching.\n",
        "\n",
        "        Return:\n",
        "          A dictionary representing the stable matching.\n",
        "        \"\"\"\n",
        "        proposers, proposers_preferences, proposees, proposees_preferences = self.proposers_proposee()\n",
        "\n",
        "        # Initialize all proposers as free and create a dictionary to track proposals\n",
        "        free_proposers = list(proposers)\n",
        "        proposals = {proposer: [] for proposer in proposers}  # Tracks proposals made by each proposer\n",
        "\n",
        "        # While there are free proposers\n",
        "        while free_proposers:\n",
        "            proposer = free_proposers.pop(0)  # Pick a free proposer\n",
        "            proposer_pref_list = proposers_preferences[proposer]  # Get their preference list\n",
        "\n",
        "            # Propose to proposees in order of preference\n",
        "            for proposee in proposer_pref_list:\n",
        "                if proposee not in self.matches.values():  # If proposee is free, accept the proposal\n",
        "                    self.matches[proposer] = proposee\n",
        "                    break\n",
        "                else:\n",
        "                    # If proposee is already matched, check if they prefer the new proposer\n",
        "                    current_match = [k for k, v in self.matches.items() if v == proposee][0]\n",
        "                    proposee_pref_list = proposees_preferences[proposee]\n",
        "                    if proposee_pref_list.index(proposer) < proposee_pref_list.index(current_match):\n",
        "                        # Proposee prefers the new proposer, so reject the current match\n",
        "                        self.matches[proposer] = proposee\n",
        "                        free_proposers.append(current_match)  # The rejected proposer becomes free\n",
        "                        break\n",
        "                proposer_pref_list.remove(proposee)\n",
        "\n",
        "        # Return the matches based on the proposing group\n",
        "        return self.matches"
      ],
      "metadata": {
        "id": "ZyOKRgqq3FbP"
      },
      "execution_count": null,
      "outputs": []
    },
    {
      "cell_type": "markdown",
      "source": [
        "### Testing the Algorithm\n",
        "Now, we execute the function and print the results."
      ],
      "metadata": {
        "id": "fP4TzLLc97gJ"
      }
    },
    {
      "cell_type": "code",
      "source": [
        "# Create an instance of the GaleShapley class\n",
        "gs = GaleShapley(students_preferences, colleges_preferences, proposing_group=\"A\")\n",
        "\n",
        "# Run the algorithm with Group A proposing to Group B\n",
        "matches = gs.match()\n",
        "print(\"Stable Matching (students proposing to colleges):\", matches)\n",
        "\n",
        "# Run the algorithm with Group B proposing to Group A\n",
        "gs = GaleShapley(students_preferences, colleges_preferences, proposing_group=\"B\")\n",
        "matches = gs.match()\n",
        "print(\"Stable Matching (colleges proposing to students):\", matches)"
      ],
      "metadata": {
        "id": "DSwWgVasg7hi"
      },
      "execution_count": null,
      "outputs": []
    },
    {
      "cell_type": "markdown",
      "source": [
        "## Exercise\n",
        "We consider an organ transplant problem. We assume:\n",
        "\n",
        "- n patients needing an organ transplant.\n",
        "- n donors/hospitals offering organs.\n",
        "- Each patient ranks donors based on compatibility & preference.\n",
        "- Each donor ranks patients based on priority criteria.\n",
        "- Each donor has a quota (number of transplants they can perform).\n",
        "\n",
        "The goal is to find a stable matching where no unmatched patient-donor pair prefers each other over their current match.\n",
        "\n",
        "We could summarize the preferences as:\n",
        "\n",
        "Students | Preferences |\n",
        " :- | -:- |\n",
        "  $p_1$ | $d_1$ $> d_2$ $> d_3$\n",
        "  $p_2$ | $d_2$ $> d_1$ $> d_3$  \n",
        "  $p_3$ | $d_1$ $> d_3$ $> d_2$\n",
        "\n",
        "and that of the colleges as:\n",
        "\n",
        "Students | Preferences |\n",
        " :- | -:- |\n",
        "  $d_1$ | $p_2$ $> p_1$ $> p_3$\n",
        "  $d_2$ | $p_1$ $> p_3$ $> p_2$\n",
        "  $d_3$ | $p_3$ $> p_2$ $> p_1$"
      ],
      "metadata": {
        "id": "Zlr3Q_BoofRx"
      }
    },
    {
      "cell_type": "code",
      "source": [
        "# Your code"
      ],
      "metadata": {
        "id": "A_KfpVX2pKEZ"
      },
      "execution_count": null,
      "outputs": []
    },
    {
      "cell_type": "markdown",
      "source": [
        "**Congratulations! You have finished the Notebook! Great Job!**\n",
        "🤗🙌👍👏💪\n",
        "<!--\n",
        "# Copyright © 2024 Meysam Goodarzi\n",
        "This notebook is licensed under CC BY-NC 4.0 with the following amandments:\n",
        "- Individuals may use, share, and adapt this material for non-commercial purposes with attribution.\n",
        "- Institutions/Companies must obtain written consent to use this material, except for nonprofits.\n",
        "- Commercial use is prohibited without permission.  \n",
        "Contact: analytica@meysam-goodarzi.com.\n",
        "-->"
      ],
      "metadata": {
        "id": "nrBw5WXAAcC-"
      }
    }
  ]
}