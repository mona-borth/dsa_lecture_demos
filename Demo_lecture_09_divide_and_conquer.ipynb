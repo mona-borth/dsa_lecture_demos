{
  "nbformat": 4,
  "nbformat_minor": 0,
  "metadata": {
    "colab": {
      "provenance": [],
      "toc_visible": true
    },
    "kernelspec": {
      "name": "python3",
      "display_name": "Python 3"
    },
    "language_info": {
      "name": "python"
    }
  },
  "cells": [
    {
      "cell_type": "markdown",
      "source": [
        "------------------\n",
        "```markdown\n",
        "# Copyright © 2024 Meysam Goodarzi\n",
        "This notebook is licensed under CC BY-NC 4.0 with the following amandments:\n",
        "- Individuals may use, share, and adapt this material for non-commercial purposes with attribution.\n",
        "- Institutions/Companies must obtain written consent to use this material, except for nonprofits.\n",
        "- Commercial use is prohibited without permission.  \n",
        "Contact: analytica@meysam-goodarzi.com\n",
        "```\n",
        "------------------------------\n",
        "❗❗❗ **IMPORTANT**❗❗❗ **Create a copy of this notebook**\n",
        "\n",
        "In order to work with this Google Colab you need to create a copy of it. Please **DO NOT** provide your answers here. Instead, work on the copy version. To make a copy:\n",
        "\n",
        "**Click on: File -> save a copy in drive**\n",
        "\n",
        "Have you successfully created the copy? if yes, there must be a new tab opened in your browser. Now move to the copy and start from there!\n",
        "\n",
        "----------------------------------------------\n"
      ],
      "metadata": {
        "id": "TwkcaWdkKel3"
      }
    },
    {
      "cell_type": "markdown",
      "source": [
        "# Divide and Conquer\n",
        "In this notebook, we will apply general theory of divide and conquer on three fundamental problems namely, MergeSort, Closest Pair of Points, and Multiplication."
      ],
      "metadata": {
        "id": "KNWxLcg4374L"
      }
    },
    {
      "cell_type": "markdown",
      "source": [
        "## Mergesort\n",
        "Let us first begin by a simple case, merging two sorted arrays."
      ],
      "metadata": {
        "id": "Zlr3Q_BoofRx"
      }
    },
    {
      "cell_type": "markdown",
      "source": [
        "### Merging Sorted Arrays\n",
        "Merging two sorted arrays involves combining them into a single sorted array by comparing elements from both arrays and appending the smaller element to the result."
      ],
      "metadata": {
        "id": "jqHGFYLw1ZgH"
      }
    },
    {
      "cell_type": "code",
      "source": [
        "def merge_sorted_arrays(arr1: list, arr2: list) -> list:\n",
        "    \"\"\"\n",
        "    Merges two sorted arrays into a single sorted array.\n",
        "\n",
        "    Parameters:\n",
        "    arr1 (list): The first sorted array.\n",
        "    arr2 (list): The second sorted array.\n",
        "\n",
        "    Returns:\n",
        "    list: A merged sorted array containing all elements from arr1 and arr2.\n",
        "\n",
        "    Time Complexity: O(n + m), where n and m are the lengths of arr1 and arr2.\n",
        "    \"\"\"\n",
        "    merged = []\n",
        "    i, j = 0, 0\n",
        "\n",
        "    # Merge both arrays while there are elements in both\n",
        "    while i < len(arr1) and j < len(arr2):\n",
        "        if arr1[i] < arr2[j]:\n",
        "            merged.append(arr1[i])\n",
        "            i += 1\n",
        "        else:\n",
        "            merged.append(arr2[j])\n",
        "            j += 1\n",
        "\n",
        "    # If elements remain in arr1, append them\n",
        "    while i < len(arr1):\n",
        "        merged.append(arr1[i])\n",
        "        i += 1\n",
        "\n",
        "    # If elements remain in arr2, append them\n",
        "    while j < len(arr2):\n",
        "        merged.append(arr2[j])\n",
        "        j += 1\n",
        "\n",
        "    return merged\n",
        "\n",
        "# Example usage:\n",
        "arr1 = [1, 3, 5, 7]\n",
        "arr2 = [2, 4, 6, 8]\n",
        "print(merge_sorted_arrays(arr1, arr2))  # Output: [1, 2, 3, 4, 5, 6, 7, 8]\n"
      ],
      "metadata": {
        "id": "A_KfpVX2pKEZ"
      },
      "execution_count": null,
      "outputs": []
    },
    {
      "cell_type": "markdown",
      "source": [
        "What is your analysis of time complexity?\n",
        "<details>\n",
        "  <summary>Answer</summary>\n",
        "</p>$O(n + m)$: Where n and m are the lengths of the two arrays. Each element is visited once.</p>\n",
        "</details>"
      ],
      "metadata": {
        "id": "oR3kZuDE2ARV"
      }
    },
    {
      "cell_type": "markdown",
      "source": [
        "### MergeSort\n",
        "MergeSort is a **divide-and-conquer** algorithm that recursively splits an unsorted array into smaller subarrays, sorts them, and then merges them back together. The merging step uses the same logic as merging two sorted arrays."
      ],
      "metadata": {
        "id": "EdgFSK872O3Q"
      }
    },
    {
      "cell_type": "code",
      "source": [
        "def merge_sort(arr: list):\n",
        "    # Base case: If the array has 0 or 1 element, it's already sorted\n",
        "    if len(arr) <= 1:\n",
        "        return arr\n",
        "\n",
        "    # Divide the array into two halves\n",
        "    mid = len(arr) // 2\n",
        "    left_half = merge_sort(arr[:mid])  # Recursively sort the left half\n",
        "    right_half = merge_sort(arr[mid:])  # Recursively sort the right half\n",
        "\n",
        "    # Merge the two sorted halves\n",
        "    return merge_sorted_arrays(left_half, right_half)"
      ],
      "metadata": {
        "id": "jPtD5oGj-yO5"
      },
      "execution_count": null,
      "outputs": []
    },
    {
      "cell_type": "markdown",
      "source": [
        "What is the time complexity?\n",
        "<details>\n",
        "  <summary>Answer</summary>\n",
        "</p>$O(n log n)$: The array is divided into halves recursively (log n levels), and each level requires $O(n)$ time for merging.</p>\n",
        "</details>"
      ],
      "metadata": {
        "id": "86QcO-GF-_dk"
      }
    },
    {
      "cell_type": "markdown",
      "source": [
        "### MergeSortCount"
      ],
      "metadata": {
        "id": "mEYqWuuADO5A"
      }
    },
    {
      "cell_type": "code",
      "source": [
        "def merge_sort_count(arr: list, left: int, right: int) -> int:\n",
        "    \"\"\"\n",
        "    Sorts the array and counts the number of inversions using Merge Sort.\n",
        "\n",
        "    Parameters:\n",
        "    arr (list): The array to be sorted and counted for inversions.\n",
        "    temp_arr (list): A temporary array to assist with merging.\n",
        "    left (int): The starting index of the array/subarray.\n",
        "    right (int): The ending index of the array/subarray.\n",
        "\n",
        "    Returns:\n",
        "    int: The total number of inversions in the array.\n",
        "    \"\"\"\n",
        "    n = len(arr)\n",
        "    temp_arr = [0] * n  # Temporary array for merging\n",
        "    inv_count = 0\n",
        "    if left < right:\n",
        "        mid = (left + right) // 2\n",
        "\n",
        "        # Count inversions in the left half, right half, and during merge\n",
        "        inv_count += merge_sort_count(arr, temp_arr, left, mid)\n",
        "        inv_count += merge_sort_count(arr, temp_arr, mid + 1, right)\n",
        "\n",
        "        # Merge two halves and count inversions during the merge step\n",
        "        # Starting index for left, right, and sorted subarrays\n",
        "        i = left\n",
        "        j = mid + 1\n",
        "        k = left\n",
        "        while i <= mid and j <= right:\n",
        "            if arr[i] <= arr[j]:\n",
        "                temp_arr[k] = arr[i]\n",
        "                i += 1\n",
        "            else:\n",
        "                temp_arr[k] = arr[j]\n",
        "                # All remaining elements in left subarray are greater than arr[j]\n",
        "                inv_count += (mid - i + 1)\n",
        "                j += 1\n",
        "            k += 1\n",
        "\n",
        "        # Copy remaining elements of left subarray if any\n",
        "        while i <= mid:\n",
        "            temp_arr[k] = arr[i]\n",
        "            i += 1\n",
        "            k += 1\n",
        "\n",
        "        # Copy remaining elements of right subarray if any\n",
        "        while j <= right:\n",
        "            temp_arr[k] = arr[j]\n",
        "            j += 1\n",
        "            k += 1\n",
        "\n",
        "        # Copy the sorted subarray into the original array\n",
        "        for i in range(left, right + 1):\n",
        "            arr[i] = temp_arr[i]\n",
        "\n",
        "    return inv_count\n",
        "\n",
        "\n",
        "# Wrapper function to initialize temp_arr and call merge_sort_count()\n",
        "def count_inversions(arr: list) -> int:\n",
        "    return merge_sort_count(arr, , n - 1)\n",
        "\n",
        "\n",
        "# Example usage:\n",
        "arr = [1, 20, 6, 4, 5]\n",
        "# Sorted: [1, 4, 5, 6, 20]\n",
        "print(f\"Number of inversions: {count_inversions(arr)}\")  # Output: 5\n"
      ],
      "metadata": {
        "id": "Kg0ky8LGm4zl"
      },
      "execution_count": null,
      "outputs": []
    },
    {
      "cell_type": "markdown",
      "source": [
        "What is the time complexity?\n",
        "<details>\n",
        "  <summary>Answer</summary>\n",
        "</p>$O(n log n)$: It is similar to MergeSort as it follows the same procedure with only an extra variable for counting the inversions. The array is divided into halves recursively (log n levels), and each level requires $O(n)$ time for merging.</p>\n",
        "</details>"
      ],
      "metadata": {
        "id": "08oj6ebUnVU6"
      }
    },
    {
      "cell_type": "markdown",
      "source": [
        "### QuickSort"
      ],
      "metadata": {
        "id": "zOXaJzewdibQ"
      }
    },
    {
      "cell_type": "code",
      "source": [
        "def quicksort(arr: list) -> list:\n",
        "    \"\"\"\n",
        "    Sorts a list of integers using the QuickSort algorithm.\n",
        "\n",
        "    Parameters:\n",
        "      arr: The list of integers to sort.\n",
        "\n",
        "    Returns:\n",
        "        A new sorted list containing the elements of the input list in ascending order.\n",
        "    \"\"\"\n",
        "    if len(arr) <= 1:\n",
        "        return arr\n",
        "\n",
        "    pivot: int = arr[0]\n",
        "    less: List[int] = [x for x in arr[1:] if x <= pivot]\n",
        "    greater: List[int] = [x for x in arr[1:] if x > pivot]\n",
        "\n",
        "    return quicksort(less) + [pivot] + quicksort(greater)\n",
        "\n",
        "qs_list = [1, 17, 2, 8, 7, 12, 3, 9, 4]\n",
        "quicksort(qs_list)"
      ],
      "metadata": {
        "id": "NKqoKXb3dmZr"
      },
      "execution_count": null,
      "outputs": []
    },
    {
      "cell_type": "markdown",
      "source": [
        "What is the time complexity?\n",
        "<details>\n",
        "  <summary>Answer</summary>\n",
        "</p> $O(n log n)$ or $O(n^2)$ depending on the choice pivot.$</p>\n",
        "</details>"
      ],
      "metadata": {
        "id": "HiQmuBzYdtwT"
      }
    },
    {
      "cell_type": "markdown",
      "source": [
        "## Closest Pair of Points"
      ],
      "metadata": {
        "id": "C8giGbgtNZrt"
      }
    },
    {
      "cell_type": "code",
      "source": [
        "import math\n",
        "\n",
        "def brute_force(points):\n",
        "    \"\"\"\n",
        "    Brute-force approach to find the closest pair among a small set of points.\n",
        "\n",
        "    Args:\n",
        "        points: List of 2D points (tuples)\n",
        "\n",
        "    Returns:\n",
        "        Tuple of the closest point pair and their distance\n",
        "    \"\"\"\n",
        "    min_dist = float('inf')\n",
        "    pair = None\n",
        "    n = len(points)\n",
        "    for i in range(n):\n",
        "        for j in range(i + 1, n):\n",
        "            d = math.dist(points[i], points[j])\n",
        "            if d < min_dist:\n",
        "                min_dist = d\n",
        "                pair = (points[i], points[j])\n",
        "    return pair, min_dist\n",
        "\n",
        "def closest_pair_in_strip(strip, d_min):\n",
        "    \"\"\"\n",
        "    Find the closest pair of points within a vertical strip.\n",
        "\n",
        "    Args:\n",
        "        strip: List of points in the strip, sorted by y-coordinate\n",
        "        d_min: Minimum distance found so far\n",
        "\n",
        "    Returns:\n",
        "        Tuple of the closest point pair within the strip and their distance\n",
        "    \"\"\"\n",
        "    min_dist = d_min\n",
        "    pair = None\n",
        "    n = len(strip)\n",
        "    for i in range(n):\n",
        "        j = i + 1\n",
        "        while j < n and (strip[j][1] - strip[i][1]) < min_dist:\n",
        "            d = math.dist(strip[i], strip[j])\n",
        "            if d < min_dist:\n",
        "                min_dist = d\n",
        "                pair = (strip[i], strip[j])\n",
        "            j += 1\n",
        "    return pair, min_dist\n",
        "\n",
        "def closest_pair_recursive(px, py):\n",
        "    \"\"\"\n",
        "    Recursive function for divide-and-conquer closest pair algorithm.\n",
        "\n",
        "    Args:\n",
        "        px: List of points sorted by x-coordinate\n",
        "        py: List of points sorted by y-coordinate\n",
        "\n",
        "    Returns:\n",
        "        Closest pair and their distance\n",
        "    \"\"\"\n",
        "    n = len(px)\n",
        "    if n <= 3:\n",
        "        return brute_force(px)\n",
        "\n",
        "    mid = n // 2\n",
        "    midpoint_x = px[mid][0]\n",
        "\n",
        "    Qx = px[:mid]\n",
        "    Rx = px[mid:]\n",
        "\n",
        "    Qy = [p for p in py if p[0] <= midpoint_x]\n",
        "    Ry = [p for p in py if p[0] > midpoint_x]\n",
        "\n",
        "    pair_left, dist_left = closest_pair_recursive(Qx, Qy)\n",
        "    pair_right, dist_right = closest_pair_recursive(Rx, Ry)\n",
        "\n",
        "    if dist_left < dist_right:\n",
        "        d_min = dist_left\n",
        "        best_pair = pair_left\n",
        "    else:\n",
        "        d_min = dist_right\n",
        "        best_pair = pair_right\n",
        "\n",
        "    strip = [p for p in py if abs(p[0] - midpoint_x) < d_min]\n",
        "    pair_strip, dist_strip = closest_pair_in_strip(strip, d_min)\n",
        "\n",
        "    if pair_strip and dist_strip < d_min:\n",
        "        return pair_strip, dist_strip\n",
        "    else:\n",
        "        return best_pair, d_min\n",
        "\n",
        "def closest_pair(points):\n",
        "    \"\"\"\n",
        "    Entry point for finding the closest pair of points using divide and conquer.\n",
        "\n",
        "    Args:\n",
        "        points: List of 2D points (tuples of x and y coordinates)\n",
        "\n",
        "    Returns:\n",
        "        A tuple: (closest pair of points, distance between them)\n",
        "    \"\"\"\n",
        "    px = sorted(points, key=lambda p: p[0])\n",
        "    py = sorted(points, key=lambda p: p[1])\n",
        "    return closest_pair_recursive(px, py)\n"
      ],
      "metadata": {
        "id": "r--F5CEPNcBT"
      },
      "execution_count": 3,
      "outputs": []
    },
    {
      "cell_type": "code",
      "source": [
        "example_points = [\n",
        "    (10, 20), (15, 85), (15, 50), (25, 60), (70, 44),\n",
        "    (60, 65), (70, 15), (50, 90), (80, 23), (90, 95),\n",
        "    (55, 30), (45, 51), (52, 48), (34, 35), (20, 22)\n",
        "]\n",
        "closest_pairs, dist = closest_pair(example_points)\n",
        "print(f\"Closest pair: {closest_pairs} with distance {dist:.3f}\")"
      ],
      "metadata": {
        "id": "tLuqeRQPOKhD"
      },
      "execution_count": null,
      "outputs": []
    },
    {
      "cell_type": "code",
      "source": [
        "import matplotlib.pyplot as plt\n",
        "\n",
        "x_vals, y_vals = zip(*example_points)\n",
        "plt.figure(figsize=(8, 6))\n",
        "plt.scatter(x_vals, y_vals, color='blue', label='Points')\n",
        "\n",
        "for i, (x, y) in enumerate(example_points):\n",
        "    plt.text(x + 1, y + 1, f\"P{i}\", fontsize=9)\n",
        "\n",
        "if closest_pair:\n",
        "    x1, y1 = closest_pairs[0]\n",
        "    x2, y2 = closest_pairs[1]\n",
        "    plt.plot([x1, x2], [y1, y2], 'r--', label='Closest Pair', linewidth=2)\n",
        "    plt.scatter([x1, x2], [y1, y2], color='red')\n",
        "\n",
        "plt.title(\"Example Points for Closest Pair Problem\")\n",
        "plt.xlabel(\"X\")\n",
        "plt.ylabel(\"Y\")\n",
        "plt.grid(True)\n",
        "plt.legend()\n",
        "plt.show()"
      ],
      "metadata": {
        "id": "I1Z7aVeY1Zhq"
      },
      "execution_count": null,
      "outputs": []
    },
    {
      "cell_type": "markdown",
      "source": [
        "What is the time complexity?\n",
        "<details>\n",
        "  <summary>Answer</summary>\n",
        "</p>$O(n log n)$: It is similar to MergeSort as it follows the same procedure with only an extra variable for counting the inversions. The array is divided into halves recursively (log n levels), and each level requires $O(n)$ time for merging.</p>\n",
        "</details>"
      ],
      "metadata": {
        "id": "IiaD1vo4lIJy"
      }
    },
    {
      "cell_type": "markdown",
      "source": [
        "**Congratulations! You have finished the Notebook! Great Job!**\n",
        "🤗🙌👍👏💪\n",
        "<!--\n",
        "# Copyright © 2024 Meysam Goodarzi\n",
        "This notebook is licensed under CC BY-NC 4.0 with the following amandments:\n",
        "- Individuals may use, share, and adapt this material for non-commercial purposes with attribution.\n",
        "- Institutions/Companies must obtain written consent to use this material, except for nonprofits.\n",
        "- Commercial use is prohibited without permission.  \n",
        "Contact: analytica@meysam-goodarzi.com.\n",
        "-->"
      ],
      "metadata": {
        "id": "nrBw5WXAAcC-"
      }
    }
  ]
}